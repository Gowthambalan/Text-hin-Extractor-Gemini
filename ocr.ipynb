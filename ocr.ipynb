{
 "cells": [
  {
   "cell_type": "code",
   "execution_count": 2,
   "id": "1854f459",
   "metadata": {},
   "outputs": [
    {
     "name": "stdout",
     "output_type": "stream",
     "text": [
      "Collecting pillow\n",
      "  Using cached pillow-11.3.0-cp311-cp311-win_amd64.whl.metadata (9.2 kB)\n",
      "Using cached pillow-11.3.0-cp311-cp311-win_amd64.whl (7.0 MB)\n",
      "Installing collected packages: pillow\n",
      "Successfully installed pillow-11.3.0\n"
     ]
    },
    {
     "name": "stderr",
     "output_type": "stream",
     "text": [
      "\n",
      "[notice] A new release of pip is available: 24.0 -> 25.1.1\n",
      "[notice] To update, run: python.exe -m pip install --upgrade pip\n"
     ]
    }
   ],
   "source": [
    "! pip install pillow"
   ]
  },
  {
   "cell_type": "code",
   "execution_count": null,
   "id": "0abbf5e9",
   "metadata": {},
   "outputs": [
    {
     "name": "stdout",
     "output_type": "stream",
     "text": [
      "Extracted Text:\n",
      "\n",
      "Here's a transcription of the text from the image:\n",
      "\n",
      "**CERTIFICATE OF BIRTH**\n",
      "\n",
      "(1) PLACE OF BIRTH  CITY OF BALTIMORE.\n",
      "\n",
      "(2) FULL NAME OF CHILD  Violet Elizabeth Frederick\n",
      "\n",
      "(3) Sex of Child  Female\n",
      "\n",
      "(4) Twin, triplet, etc.\n",
      "\n",
      "(5) Number in order of birth\n",
      "\n",
      "(6) FATHER\n",
      "FULL NAME  Wm Alfred Frederick\n",
      "RESIDENCE 545 Mosher St\n",
      "COLOR Col\n",
      "(11) AGE AT LAST BIRTHDAY\n",
      "\n",
      "(7) Date of Birth  July 30, 1911\n",
      "\n",
      "(8) MOTHER\n",
      "MAIDEN NAME  Daisy M.\n",
      "RESIDENCE 545 Col\n",
      "COLOR Col\n",
      "(17) AGE AT LAST BIRTHDAY 21\n",
      "OCCUPATION House wife\n",
      "\n",
      "(12) BIRTHPLACE S River\n",
      "(13) OCCUPATION\n",
      "\n",
      "(14) FULL\n",
      "(15) RESIDENCE\n",
      "(16) COLOR\n",
      "(18) BIRTHPLACE\n",
      "(19) OCCUPATION\n",
      "\n",
      "(20) Number of children born to this mother, including present birth 2\n",
      "\n",
      "(21) PHYSICIAN OR MIDWIFE\n",
      "S B Hughes MD\n",
      "\n",
      "(22) I hereby certify that I attended the birth of this child, who was BORN ALIVE on the date above stated.\n",
      "\n",
      "(23) Signature\n",
      "\n",
      "Address 14/3 Druid Hill av.  19\n",
      "\n",
      "(READ THE REVERSE SIDE)\n"
     ]
    }
   ],
   "source": [
    "import google.generativeai as genai\n",
    "from PIL import Image\n",
    "import io\n",
    "\n",
    "# Set your Gemini API key here\n",
    "genai.configure(api_key=\"\")\n",
    "\n",
    "# Load the image file\n",
    "def load_image(image_path):\n",
    "    with open(image_path, \"rb\") as f:\n",
    "        return f.read()\n",
    "\n",
    "# Use gemini-1.5-pro-vision (new version)\n",
    "def extract_text_from_image(image_path):\n",
    "    image_bytes = load_image(image_path)\n",
    "\n",
    "    model = genai.GenerativeModel(\"gemini-1.5-flash\")\n",
    "\n",
    "    response = model.generate_content(\n",
    "        contents=[\n",
    "            {\n",
    "                \"role\": \"user\",\n",
    "                \"parts\": [\n",
    "                    {\"text\": \"Extract Hindi text from this image.\"},\n",
    "                    {\"inline_data\": {\"mime_type\": \"image/jpeg\", \"data\": image_bytes}}\n",
    "                ]\n",
    "            }\n",
    "        ]\n",
    "    )\n",
    "\n",
    "    print(\"Extracted Text:\\n\")\n",
    "    print(response.text)\n",
    "\n",
    "# Example usage\n",
    "extract_text_from_image(\"your_image_path_here.jpg\")\n"
   ]
  },
  {
   "cell_type": "code",
   "execution_count": 5,
   "id": "8930d8fe",
   "metadata": {},
   "outputs": [
    {
     "name": "stdout",
     "output_type": "stream",
     "text": [
      "Requirement already satisfied: requests in d:\\ai projects\\hindi ocr\\venv\\lib\\site-packages (2.32.4)\n",
      "Requirement already satisfied: charset_normalizer<4,>=2 in d:\\ai projects\\hindi ocr\\venv\\lib\\site-packages (from requests) (3.4.2)\n",
      "Requirement already satisfied: idna<4,>=2.5 in d:\\ai projects\\hindi ocr\\venv\\lib\\site-packages (from requests) (3.10)\n",
      "Requirement already satisfied: urllib3<3,>=1.21.1 in d:\\ai projects\\hindi ocr\\venv\\lib\\site-packages (from requests) (2.5.0)\n",
      "Requirement already satisfied: certifi>=2017.4.17 in d:\\ai projects\\hindi ocr\\venv\\lib\\site-packages (from requests) (2025.7.14)\n"
     ]
    },
    {
     "name": "stderr",
     "output_type": "stream",
     "text": [
      "\n",
      "[notice] A new release of pip is available: 24.0 -> 25.1.1\n",
      "[notice] To update, run: python.exe -m pip install --upgrade pip\n"
     ]
    }
   ],
   "source": [
    "! pip install requests"
   ]
  },
  {
   "cell_type": "code",
   "execution_count": null,
   "id": "28d93ce0",
   "metadata": {},
   "outputs": [],
   "source": []
  }
 ],
 "metadata": {
  "kernelspec": {
   "display_name": "venv",
   "language": "python",
   "name": "python3"
  },
  "language_info": {
   "codemirror_mode": {
    "name": "ipython",
    "version": 3
   },
   "file_extension": ".py",
   "mimetype": "text/x-python",
   "name": "python",
   "nbconvert_exporter": "python",
   "pygments_lexer": "ipython3",
   "version": "3.11.9"
  }
 },
 "nbformat": 4,
 "nbformat_minor": 5
}
